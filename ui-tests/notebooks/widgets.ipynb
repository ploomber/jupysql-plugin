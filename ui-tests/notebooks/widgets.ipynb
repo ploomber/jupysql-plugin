{
 "cells": [
  {
   "cell_type": "code",
   "execution_count": 3,
   "id": "08aa1a85-674c-4865-8e06-7d056fb628bf",
   "metadata": {
    "tags": []
   },
   "outputs": [
    {
     "data": {
      "application/vnd.jupyter.widget-view+json": {
       "model_id": "8129345570dd435f8ba5a62398238f1d",
       "version_major": 2,
       "version_minor": 0
      },
      "text/plain": [
       "FormWidget()"
      ]
     },
     "execution_count": 3,
     "metadata": {},
     "output_type": "execute_result"
    }
   ],
   "source": [
    "from jupysql_plugin._widgets import FormWidget, TableWidget\n",
    "\n",
    "FormWidget()"
   ]
  },
  {
   "cell_type": "code",
   "execution_count": 2,
   "id": "0890e3d8-44d0-4a3e-9dff-b1d430ad0832",
   "metadata": {
    "tags": []
   },
   "outputs": [
    {
     "data": {
      "application/vnd.jupyter.widget-view+json": {
       "model_id": "eb4ab7aaf536488c911705c9166ae954",
       "version_major": 2,
       "version_minor": 0
      },
      "text/plain": [
       "TableWidget()"
      ]
     },
     "execution_count": 2,
     "metadata": {},
     "output_type": "execute_result"
    }
   ],
   "source": [
    "TableWidget()"
   ]
  },
  {
   "cell_type": "code",
   "execution_count": 3,
   "id": "90780fc4-5894-4115-a359-788be4687610",
   "metadata": {
    "tags": []
   },
   "outputs": [
    {
     "data": {
      "application/vnd.jupyter.widget-view+json": {
       "model_id": "91fef6f6d75f4581a4154d949e4fad6f",
       "version_major": 2,
       "version_minor": 0
      },
      "text/plain": [
       "ConnectorWidget()"
      ]
     },
     "execution_count": 3,
     "metadata": {},
     "output_type": "execute_result"
    }
   ],
   "source": [
    "from jupysql_plugin.widgets import ConnectorWidget\n",
    "\n",
    "ConnectorWidget()"
   ]
  },
  {
   "cell_type": "code",
   "execution_count": null,
   "id": "9be3adcf-4fc2-4797-84da-133956830bba",
   "metadata": {},
   "outputs": [],
   "source": []
  }
 ],
 "metadata": {
  "kernelspec": {
   "display_name": "Python 3 (ipykernel)",
   "language": "python",
   "name": "python3"
  },
  "language_info": {
   "codemirror_mode": {
    "name": "ipython",
    "version": 3
   },
   "file_extension": ".py",
   "mimetype": "text/x-python",
   "name": "python",
   "nbconvert_exporter": "python",
   "pygments_lexer": "ipython3",
   "version": "3.11.4"
  }
 },
 "nbformat": 4,
 "nbformat_minor": 5
}
