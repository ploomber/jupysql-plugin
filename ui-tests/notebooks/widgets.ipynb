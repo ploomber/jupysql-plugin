{
 "cells": [
  {
   "cell_type": "code",
   "execution_count": 3,
   "id": "08aa1a85-674c-4865-8e06-7d056fb628bf",
   "metadata": {
    "tags": []
   },
   "outputs": [
    {
     "data": {
      "application/vnd.jupyter.widget-view+json": {
       "model_id": "8129345570dd435f8ba5a62398238f1d",
       "version_major": 2,
       "version_minor": 0
      },
      "text/plain": [
       "FormWidget()"
      ]
     },
     "execution_count": 3,
     "metadata": {},
     "output_type": "execute_result"
    }
   ],
   "source": [
    "from jupysql_plugin._widgets import FormWidget, TableWidget\n",
    "\n",
    "FormWidget()"
   ]
  },
  {
   "cell_type": "code",
   "execution_count": 2,
   "id": "0890e3d8-44d0-4a3e-9dff-b1d430ad0832",
   "metadata": {
    "tags": []
   },
   "outputs": [
    {
     "data": {
      "application/vnd.jupyter.widget-view+json": {
       "model_id": "eb4ab7aaf536488c911705c9166ae954",
       "version_major": 2,
       "version_minor": 0
      },
      "text/plain": [
       "TableWidget()"
      ]
     },
     "execution_count": 2,
     "metadata": {},
     "output_type": "execute_result"
    }
   ],
   "source": [
    "TableWidget()"
   ]
  },
  {
   "cell_type": "code",
   "execution_count": 1,
   "id": "04c64d45-9986-4e71-b371-f7c1851f3d13",
   "metadata": {
    "tags": []
   },
   "outputs": [
    {
     "data": {
      "application/vnd.jupyter.widget-view+json": {
       "model_id": "ed6724a574e34d53939927b52848ec5d",
       "version_major": 2,
       "version_minor": 0
      },
      "text/plain": [
       "ConnectorWidget()"
      ]
     },
     "execution_count": 1,
     "metadata": {},
     "output_type": "execute_result"
    }
   ],
   "source": [
    "from jupysql_plugin.widgets import ConnectorWidget\n",
    "\n",
    "ConnectorWidget()"
   ]
  },
  {
   "cell_type": "code",
   "execution_count": 12,
   "id": "f4adaa1e-8613-4786-abbe-7fdc044d2bd1",
   "metadata": {
    "tags": []
   },
   "outputs": [
    {
     "name": "stdout",
     "output_type": "stream",
     "text": [
      "The sql extension is already loaded. To reload it, use:\n",
      "  %reload_ext sql\n"
     ]
    }
   ],
   "source": [
    "%load_ext sql"
   ]
  },
  {
   "cell_type": "code",
   "execution_count": 13,
   "id": "1869bcd7-3795-4dd6-bd1f-2b833bc70c80",
   "metadata": {
    "tags": []
   },
   "outputs": [
    {
     "data": {
      "text/html": [
       "<span style=\"None\">Running query in &#x27;as&#x27;</span>"
      ],
      "text/plain": [
       "Running query in 'as'"
      ]
     },
     "metadata": {},
     "output_type": "display_data"
    },
    {
     "name": "stderr",
     "output_type": "stream",
     "text": [
      "UsageError: \n",
      "Looks like there is a syntax error in your query.Possible reason: \n",
      "Did you mean : [\"SELECT * FROM (VALUES ('Hello world')) AS t1(col1) WHERE 1 = 1\"]\n",
      "\n",
      "\n",
      "Original error message from DB driver:\n",
      "(sqlite3.OperationalError) near \"(\": syntax error\n",
      "[SQL: SELECT * FROM (VALUES ('Hello world')) t1 (col1) WHERE 1 = 1]\n",
      "(Background on this error at: https://sqlalche.me/e/14/e3q8)\n",
      "\n",
      "If you need help solving this issue, send us a message: https://ploomber.io/community\n"
     ]
    }
   ],
   "source": [
    "%sql SELECT *  FROM (VALUES ('Hello world')) t1 (col1) WHERE 1 = 1"
   ]
  },
  {
   "cell_type": "code",
   "execution_count": null,
   "id": "9c800939-9d53-4234-a793-da417453dc9f",
   "metadata": {},
   "outputs": [],
   "source": []
  }
 ],
 "metadata": {
  "kernelspec": {
   "display_name": "Python 3 (ipykernel)",
   "language": "python",
   "name": "python3"
  },
  "language_info": {
   "codemirror_mode": {
    "name": "ipython",
    "version": 3
   },
   "file_extension": ".py",
   "mimetype": "text/x-python",
   "name": "python",
   "nbconvert_exporter": "python",
   "pygments_lexer": "ipython3",
   "version": "3.11.4"
  }
 },
 "nbformat": 4,
 "nbformat_minor": 5
}
