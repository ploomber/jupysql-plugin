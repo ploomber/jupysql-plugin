{
 "cells": [
  {
   "cell_type": "code",
   "execution_count": 1,
   "id": "63ada2ee-72f4-4f84-b661-fd8e327bbb2a",
   "metadata": {
    "tags": []
   },
   "outputs": [],
   "source": [
    "import warnings\n",
    "from pathlib import Path\n",
    "\n",
    "from jupysql_plugin.widgets import ConnectorWidget\n",
    "\n",
    "# we're getting a NotOpenSSLWarning warning on github actions\n",
    "warnings.filterwarnings(\"ignore\")\n",
    "\n",
    "conn_file = Path(\"odbc.ini\")"
   ]
  },
  {
   "cell_type": "code",
   "execution_count": 2,
   "id": "5f7ae568-7a6d-4376-a9e5-3c2592d51b59",
   "metadata": {
    "tags": []
   },
   "outputs": [],
   "source": [
    "if conn_file.exists():\n",
    "    conn_file.unlink()"
   ]
  },
  {
   "cell_type": "code",
   "execution_count": 3,
   "id": "cd406426-efee-4121-8c54-79bbd42c217e",
   "metadata": {
    "tags": []
   },
   "outputs": [],
   "source": [
    "%load_ext sql"
   ]
  },
  {
   "cell_type": "code",
   "execution_count": 4,
   "id": "a323829e-bd8b-4742-82b2-c3902c00812d",
   "metadata": {
    "tags": []
   },
   "outputs": [
    {
     "data": {
      "application/vnd.jupyter.widget-view+json": {
       "model_id": "e412bfe4f7714dd09f93dbc31c44f606",
       "version_major": 2,
       "version_minor": 0
      },
      "text/plain": [
       "ConnectorWidget(connections='[]', connections_templates='{\"duckdb\": {\"driver\": \"duckdb\", \"fields\": [{\"id\": \"co…"
      ]
     },
     "execution_count": 4,
     "metadata": {},
     "output_type": "execute_result"
    }
   ],
   "source": [
    "ConnectorWidget()"
   ]
  },
  {
   "cell_type": "code",
   "execution_count": 5,
   "id": "ff876b91-47a3-40e4-8eed-6ac7e67aaea2",
   "metadata": {},
   "outputs": [
    {
     "data": {
      "text/plain": [
       "28"
      ]
     },
     "execution_count": 5,
     "metadata": {},
     "output_type": "execute_result"
    }
   ],
   "source": [
    "conn_file.write_text(\n",
    "    \"\"\"\n",
    "[duck]\n",
    "drivername = duckdb\n",
    "\"\"\"\n",
    ")"
   ]
  },
  {
   "cell_type": "code",
   "execution_count": 6,
   "id": "4d2313a5-5f34-4f5a-b916-a7988673b330",
   "metadata": {
    "tags": []
   },
   "outputs": [
    {
     "data": {
      "application/vnd.jupyter.widget-view+json": {
       "model_id": "3037e620d007464b97badb2c30469e5f",
       "version_major": 2,
       "version_minor": 0
      },
      "text/plain": [
       "ConnectorWidget(connections='[{\"name\": \"duck\", \"driver\": \"duckdb\"}]', connections_templates='{\"duckdb\": {\"driv…"
      ]
     },
     "execution_count": 6,
     "metadata": {},
     "output_type": "execute_result"
    }
   ],
   "source": [
    "ConnectorWidget()"
   ]
  },
  {
   "cell_type": "code",
   "execution_count": 7,
   "id": "e6111b32-f769-4a21-8492-1a93b3ccb9f1",
   "metadata": {
    "tags": []
   },
   "outputs": [
    {
     "data": {
      "text/plain": [
       "58"
      ]
     },
     "execution_count": 7,
     "metadata": {},
     "output_type": "execute_result"
    }
   ],
   "source": [
    "conn_file.write_text(\n",
    "    \"\"\"\n",
    "[duck]\n",
    "drivername = duckdb\n",
    "\n",
    "[sqlite]\n",
    "drivername = sqlite\n",
    "\"\"\"\n",
    ")"
   ]
  },
  {
   "cell_type": "code",
   "execution_count": 8,
   "id": "e5085b31-d83e-44c3-a3fa-c2e7721e52b7",
   "metadata": {
    "tags": []
   },
   "outputs": [
    {
     "data": {
      "application/vnd.jupyter.widget-view+json": {
       "model_id": "93181ba3aaf741ce85faf173ab0b6c25",
       "version_major": 2,
       "version_minor": 0
      },
      "text/plain": [
       "ConnectorWidget(connections='[{\"name\": \"duck\", \"driver\": \"duckdb\"}, {\"name\": \"sqlite\", \"driver\": \"sqlite\"}]', …"
      ]
     },
     "execution_count": 8,
     "metadata": {},
     "output_type": "execute_result"
    }
   ],
   "source": [
    "ConnectorWidget()"
   ]
  }
 ],
 "metadata": {
  "kernelspec": {
   "display_name": "Python 3 (ipykernel)",
   "language": "python",
   "name": "python3"
  },
  "language_info": {
   "codemirror_mode": {
    "name": "ipython",
    "version": 3
   },
   "file_extension": ".py",
   "mimetype": "text/x-python",
   "name": "python",
   "nbconvert_exporter": "python",
   "pygments_lexer": "ipython3",
   "version": "3.11.4"
  }
 },
 "nbformat": 4,
 "nbformat_minor": 5
}
