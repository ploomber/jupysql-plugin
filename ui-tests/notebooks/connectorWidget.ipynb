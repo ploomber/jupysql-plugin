{
 "cells": [
  {
   "cell_type": "code",
   "execution_count": 1,
   "id": "63ada2ee-72f4-4f84-b661-fd8e327bbb2a",
   "metadata": {
    "tags": []
   },
   "outputs": [],
   "source": [
    "import warnings\n",
    "from pathlib import Path\n",
    "\n",
    "from jupysql_plugin.widgets import ConnectorWidget\n",
    "\n",
    "# we're getting a NotOpenSSLWarning warning on github actions\n",
    "warnings.filterwarnings(\"ignore\")\n",
    "\n",
    "conn_file = Path(\"odbc.ini\")\n",
    "\n",
    "if conn_file.exists():\n",
    "    conn_file.unlink()\n",
    "\n",
    "%load_ext sql\n",
    "\n",
    "ConnectorWidget()"
   ]
  },
  {
   "cell_type": "code",
   "execution_count": 5,
   "id": "ff876b91-47a3-40e4-8eed-6ac7e67aaea2",
   "metadata": {},
   "outputs": [
    {
     "data": {
      "text/plain": [
       "28"
      ]
     },
     "execution_count": 5,
     "metadata": {},
     "output_type": "execute_result"
    }
   ],
   "source": [
    "conn_file.write_text(\n",
    "    \"\"\"\n",
    "[duck]\n",
    "drivername = duckdb\n",
    "\"\"\"\n",
    ")\n",
    "\n",
    "ConnectorWidget()"
   ]
  },
  {
   "cell_type": "code",
   "execution_count": 7,
   "id": "e6111b32-f769-4a21-8492-1a93b3ccb9f1",
   "metadata": {
    "tags": []
   },
   "outputs": [
    {
     "data": {
      "text/plain": [
       "58"
      ]
     },
     "execution_count": 7,
     "metadata": {},
     "output_type": "execute_result"
    }
   ],
   "source": [
    "conn_file.write_text(\n",
    "    \"\"\"\n",
    "[duck]\n",
    "drivername = duckdb\n",
    "\n",
    "[sqlite]\n",
    "drivername = sqlite\n",
    "\"\"\"\n",
    ")\n",
    "\n",
    "ConnectorWidget()"
   ]
  }
 ],
 "metadata": {
  "kernelspec": {
   "display_name": "Python 3 (ipykernel)",
   "language": "python",
   "name": "python3"
  },
  "language_info": {
   "codemirror_mode": {
    "name": "ipython",
    "version": 3
   },
   "file_extension": ".py",
   "mimetype": "text/x-python",
   "name": "python",
   "nbconvert_exporter": "python",
   "pygments_lexer": "ipython3",
   "version": "3.11.4"
  }
 },
 "nbformat": 4,
 "nbformat_minor": 5
}
