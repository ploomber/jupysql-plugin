{
 "cells": [
  {
   "cell_type": "code",
   "execution_count": 1,
   "id": "04c64d45-9986-4e71-b371-f7c1851f3d13",
   "metadata": {
    "tags": []
   },
   "outputs": [
    {
     "data": {
      "application/vnd.jupyter.widget-view+json": {
       "model_id": "a90863d8c0094b7f90c7d9a8b20c80bb",
       "version_major": 2,
       "version_minor": 0
      },
      "text/plain": [
       "ConnectorWidget()"
      ]
     },
     "execution_count": 1,
     "metadata": {},
     "output_type": "execute_result"
    }
   ],
   "source": [
    "%load_ext sql\n",
    "from jupysql_plugin.widgets import ConnectorWidget\n",
    "ConnectorWidget()"
   ]
  }
 ],
 "metadata": {
  "kernelspec": {
   "display_name": "Python 3 (ipykernel)",
   "language": "python",
   "name": "python3"
  },
  "language_info": {
   "codemirror_mode": {
    "name": "ipython",
    "version": 3
   },
   "file_extension": ".py",
   "mimetype": "text/x-python",
   "name": "python",
   "nbconvert_exporter": "python",
   "pygments_lexer": "ipython3",
   "version": "3.11.4"
  }
 },
 "nbformat": 4,
 "nbformat_minor": 5
}
